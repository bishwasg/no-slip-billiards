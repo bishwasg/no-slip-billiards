{
 "cells": [
  {
   "cell_type": "code",
   "execution_count": 49,
   "metadata": {},
   "outputs": [
    {
     "name": "stdout",
     "output_type": "stream",
     "text": [
      "0.500 +0.500i -0.707j +0.000k\n",
      "0.9707092573263417\n",
      "0.9707092573263416\n",
      "9.43689570931383e-16\n",
      "0.9707092573263413\n",
      "0.9707092573263412\n",
      "1.8107189559191205e-15\n",
      "0.9707092573263408\n",
      "0.9707092573263408\n",
      "2.802076229740705e-15\n",
      "0.9707092573263405\n",
      "0.9707092573263405\n",
      "3.689299676493287e-15\n",
      "0.9707092573263401\n",
      "0.9707092573263401\n",
      "4.689296080760491e-15\n",
      "0.9707092573263395\n",
      "0.9707092573263394\n",
      "5.795800179269849e-15\n",
      "0.9707092573263392\n",
      "0.9707092573263391\n"
     ]
    }
   ],
   "source": [
    "import math\n",
    "import numpy as np\n",
    "from pyquaternion import Quaternion\n",
    "\n",
    "\n",
    "\n",
    "###########################################\n",
    "#PICK YOUR INPUTS HERE\n",
    "\n",
    "#pick the wedge angle\n",
    "phi = math.pi/4\n",
    "#phi = np.random.uniform(0,math.pi/4.0) #expected to be period 6 (n=3), which it is\n",
    "#phi = 0.571859 #expected to be period 8 (n=4), which it is not\n",
    "\n",
    "#pick the number of two-collision pairs you want to go up to\n",
    "n = 20\n",
    "\n",
    "#####################\n",
    "\n",
    "#initialize the quaternions that represent the right rotations around omega and x axes\n",
    "q_omega = Quaternion(axis=[1, 0, 0], angle=phi) # Rotate phi clockwise about omega\n",
    "q_x = Quaternion(axis=[0, 1, 0], angle=-2*phi) # Rotate 2*phi counterclockwise about x\n",
    "\n",
    "#pick an initial velocity direction\n",
    "omega0 = np.random.uniform(-1,1)\n",
    "xdot0 = np.random.uniform(-1,1)\n",
    "ydot0 = np.random.uniform(-1,1)\n",
    "v = np.array([omega0, xdot0, ydot0])\n",
    "\n",
    "#normalize\n",
    "v = v/np.linalg.norm(v)\n",
    "v_init = v\n",
    "\n",
    "#determine the composite quartenion representing the rotation after two collisions\n",
    "q_comp = q_omega * q_x * q_omega\n",
    "\n",
    "#print the composite quaternion\n",
    "print(q_comp)\n",
    "\n",
    "#look at how far the velocity vector gets from the initial direction with successive collision pairs\n",
    "count = 0\n",
    "while count < n: \n",
    "    v = q_comp.rotate(v)\n",
    "    count += 1\n",
    "    print(error(v,v_init))\n",
    "    \n",
    "    \n",
    "def error(v,v_init):\n",
    "    return np.linalg.norm(v-v_init)\n",
    "    "
   ]
  },
  {
   "cell_type": "code",
   "execution_count": 52,
   "metadata": {},
   "outputs": [
    {
     "name": "stdout",
     "output_type": "stream",
     "text": [
      "0.7853981633974483\n"
     ]
    }
   ],
   "source": [
    "#phi = math.pi/4.0 as predicted using rotation matrices should give period 6 orbit ring wedge \n",
    "#phi = 0.571859 as predicted using rotation matrices (alternative method) should give period 8 orbit ring wedge \n",
    "x= math.pi/4\n",
    "print(x)\n"
   ]
  },
  {
   "cell_type": "code",
   "execution_count": 51,
   "metadata": {},
   "outputs": [
    {
     "ename": "ModuleNotFoundError",
     "evalue": "No module named 'sympy'",
     "output_type": "error",
     "traceback": [
      "\u001b[0;31m---------------------------------------------------------------------------\u001b[0m",
      "\u001b[0;31mModuleNotFoundError\u001b[0m                       Traceback (most recent call last)",
      "\u001b[0;32m<ipython-input-51-83454acf3811>\u001b[0m in \u001b[0;36m<module>\u001b[0;34m\u001b[0m\n\u001b[0;32m----> 1\u001b[0;31m \u001b[0;32mimport\u001b[0m \u001b[0msympy\u001b[0m\u001b[0;34m\u001b[0m\u001b[0;34m\u001b[0m\u001b[0m\n\u001b[0m\u001b[1;32m      2\u001b[0m \u001b[0;31m#initialize the quaternions that represent the right rotations around omega and x axes\u001b[0m\u001b[0;34m\u001b[0m\u001b[0;34m\u001b[0m\u001b[0;34m\u001b[0m\u001b[0m\n\u001b[1;32m      3\u001b[0m \u001b[0mq_omega\u001b[0m \u001b[0;34m=\u001b[0m \u001b[0mQuaternion\u001b[0m\u001b[0;34m(\u001b[0m\u001b[0maxis\u001b[0m\u001b[0;34m=\u001b[0m\u001b[0;34m[\u001b[0m\u001b[0;36m1\u001b[0m\u001b[0;34m,\u001b[0m \u001b[0;36m0\u001b[0m\u001b[0;34m,\u001b[0m \u001b[0;36m0\u001b[0m\u001b[0;34m]\u001b[0m\u001b[0;34m,\u001b[0m \u001b[0mangle\u001b[0m\u001b[0;34m=\u001b[0m\u001b[0mphi\u001b[0m\u001b[0;34m)\u001b[0m \u001b[0;31m# Rotate phi clockwise about omega\u001b[0m\u001b[0;34m\u001b[0m\u001b[0;34m\u001b[0m\u001b[0m\n\u001b[1;32m      4\u001b[0m \u001b[0mq_x\u001b[0m \u001b[0;34m=\u001b[0m \u001b[0mQuaternion\u001b[0m\u001b[0;34m(\u001b[0m\u001b[0maxis\u001b[0m\u001b[0;34m=\u001b[0m\u001b[0;34m[\u001b[0m\u001b[0;36m0\u001b[0m\u001b[0;34m,\u001b[0m \u001b[0;36m1\u001b[0m\u001b[0;34m,\u001b[0m \u001b[0;36m0\u001b[0m\u001b[0;34m]\u001b[0m\u001b[0;34m,\u001b[0m \u001b[0mangle\u001b[0m\u001b[0;34m=\u001b[0m\u001b[0;34m-\u001b[0m\u001b[0;36m2\u001b[0m\u001b[0;34m*\u001b[0m\u001b[0mphi\u001b[0m\u001b[0;34m)\u001b[0m \u001b[0;31m# Rotate 2*phi counterclockwise about x\u001b[0m\u001b[0;34m\u001b[0m\u001b[0;34m\u001b[0m\u001b[0m\n",
      "\u001b[0;31mModuleNotFoundError\u001b[0m: No module named 'sympy'"
     ]
    }
   ],
   "source": [
    "import sympy\n",
    "#initialize the quaternions that represent the right rotations around omega and x axes\n",
    "q_omega = Quaternion(axis=[1, 0, 0], angle=phi) # Rotate phi clockwise about omega\n",
    "q_x = Quaternion(axis=[0, 1, 0], angle=-2*phi) # Rotate 2*phi counterclockwise about x"
   ]
  },
  {
   "cell_type": "code",
   "execution_count": null,
   "metadata": {},
   "outputs": [],
   "source": []
  }
 ],
 "metadata": {
  "kernelspec": {
   "display_name": "Python 3",
   "language": "python",
   "name": "python3"
  },
  "language_info": {
   "codemirror_mode": {
    "name": "ipython",
    "version": 3
   },
   "file_extension": ".py",
   "mimetype": "text/x-python",
   "name": "python",
   "nbconvert_exporter": "python",
   "pygments_lexer": "ipython3",
   "version": "3.7.2rc1"
  }
 },
 "nbformat": 4,
 "nbformat_minor": 2
}
