{
 "cells": [
  {
   "cell_type": "code",
   "execution_count": 4,
   "metadata": {},
   "outputs": [
    {
     "data": {
      "image/png": "[encoded data removed]",
      "text/plain": [
       "<Figure size 432x288 with 1 Axes>"
      ]
     },
     "metadata": {
      "needs_background": "light"
     },
     "output_type": "display_data"
    },
    {
     "name": "stdout",
     "output_type": "stream",
     "text": [
      "[1.0798270435165377e-30 0.0002879963520213441 0.0011519416333659956\n",
      " 0.002591704527559245 0.004607066199419713 0.007197720333468354\n",
      " 0.006566977111464669 0.004657918832981733 0.0030769909489956095\n",
      " 0.0018234781897895713 0.0008966387665708703 0.00029570460014359014\n",
      " 1.9881550915389248e-05 6.834965019727207e-05 0.00044026333275555584\n",
      " 0.0011347516705752657 0.002150918607794659 0.003487843196771413\n",
      " 0.005144579835239405 0.0071201585045179445]\n",
      "[0.    0.001 0.002 0.003 0.004 0.005 0.571 0.572 0.573 0.574 0.575 0.576\n",
      " 0.577 0.578 0.579 0.58  0.581 0.582 0.583 0.584]\n"
     ]
    },
    {
     "data": {
      "text/plain": [
       "[array([1.0798270435165377e-30, 0.0002879963520213441,\n",
       "        0.0011519416333659956, 0.002591704527559245, 0.004607066199419713,\n",
       "        0.007197720333468354, 0.006566977111464669, 0.004657918832981733,\n",
       "        0.0030769909489956095, 0.0018234781897895713,\n",
       "        0.0008966387665708703, 0.00029570460014359014,\n",
       "        1.9881550915389248e-05, 6.834965019727207e-05,\n",
       "        0.00044026333275555584, 0.0011347516705752657,\n",
       "        0.002150918607794659, 0.003487843196771413, 0.005144579835239405,\n",
       "        0.0071201585045179445], dtype=object),\n",
       " array([0.   , 0.001, 0.002, 0.003, 0.004, 0.005, 0.571, 0.572, 0.573,\n",
       "        0.574, 0.575, 0.576, 0.577, 0.578, 0.579, 0.58 , 0.581, 0.582,\n",
       "        0.583, 0.584])]"
      ]
     },
     "execution_count": 4,
     "metadata": {},
     "output_type": "execute_result"
    }
   ],
   "source": [
    "from pylab import *\n",
    "import math\n",
    "import numpy as np\n",
    "import matplotlib.pyplot as plt\n",
    "\n",
    "# tolerance\n",
    "epsilon = 0.000001\n",
    "\n",
    "# range of gamma values to sample\n",
    "# the range can be extended beyond gamma=1 \n",
    "delta = 0.001\n",
    "gamma_range = np.arange(0,1.1,delta)\n",
    "\n",
    "def gamma_periodic(n, wedge_angle):\n",
    "    \n",
    "    periodic_gamma = []\n",
    "    min_error = []\n",
    "    error = np.array([None]*len(gamma_range))\n",
    "    \n",
    "    for i in range(len(gamma_range)):\n",
    "        gamma =gamma_range[i]\n",
    "        T_gamma = np.array([[-(1-gamma**2)/(1+gamma**2), -2*gamma/(1+gamma**2),0],\n",
    "                                    [-2*gamma/(1+gamma**2),(1-gamma**2)/(1+gamma**2),0],\n",
    "                                   [0,0,-1]])\n",
    "        theta = math.pi-wedge_angle\n",
    "        identity = np.array([[1,0,0],\n",
    "                           [0,1,0],\n",
    "                           [0,0,1]])\n",
    "        state = identity\n",
    "        #run the simulation for this particular gamma\n",
    "        col_count = 0\n",
    "        while col_count < n:\n",
    "            state = new_state(state,theta,gamma)\n",
    "            theta = -theta;\n",
    "            col_count += 1   \n",
    "            \n",
    "        error[i] =  find_error(state)\n",
    "        \n",
    "    # plot error (residual sum of squares) w.r.t to gamma \n",
    "    plt.plot(gamma_range, error, 'g-')\n",
    "    plt.show()\n",
    "    \n",
    "    temp_index  = sorted(np.argpartition(error, 20)[:20])\n",
    "    print(error[temp_index])\n",
    "    print(gamma_range[temp_index])\n",
    "    min_error = np.append(min_error, error[temp_index])\n",
    "    periodic_gamma = np.append(periodic_gamma, gamma_range[temp_index])        \n",
    "\n",
    "            \n",
    "    return [min_error, periodic_gamma]\n",
    "\n",
    "\n",
    "def rotation(theta):\n",
    "    return np.array([[1,0,0],\n",
    "                        [0,cos(theta), -sin(theta)],\n",
    "                        [0,sin(theta), cos(theta)]])\n",
    "def reflection(gamma):\n",
    "    return np.array([[-(1-gamma**2)/(1+gamma**2), -2*gamma/(1+gamma**2),0],\n",
    "                                    [-2*gamma/(1+gamma**2),(1-gamma**2)/(1+gamma**2),0],\n",
    "                                   [0,0,-1]])\n",
    "\n",
    "def new_state(current_state, theta, gamma):\n",
    "    T_gamma = reflection(gamma)\n",
    "    R_theta = rotation(theta)\n",
    "    return np.matmul(np.matmul(R_theta, T_gamma), current_state) \n",
    "            \n",
    "        \n",
    "\n",
    "def find_error(x):\n",
    "    error = 0 \n",
    "    for i in range(3):\n",
    "        for j in range(3):\n",
    "            if i == j: \n",
    "                error += (x[i][j]-1)**2 \n",
    "            else:\n",
    "                error += x[i][j]**2\n",
    "    return error\n",
    "\n",
    "# for i in range(4,20,2):\n",
    "#     print(i)\n",
    "#     ans = gamma_periodic(i, 3*math.pi/12)\n",
    "    \n",
    "gamma_periodic(6,1/24*math.pi)\n",
    "    \n",
    "\n"
   ]
  },
  {
   "cell_type": "code",
   "execution_count": 3,
   "metadata": {},
   "outputs": [],
   "source": [
    "#persistently periodic orbits with wedge when angle = pi/12\n",
    "#found a 4 period orbit with wedge angle pi/12 and gamma 0.9828\n",
    "#found a 6 period orbit with wedge angle pi/12 and gamma 0.557329\n",
    "#found a 8 period orbit with wedge angle pi/12 and gamma 0.3894\n",
    "#found a 10 period orbit with wedge angle pi/12 and gamma 0.2945, 0.708402\n",
    "#found a 12 period orbit with wedge angle pi/12 and gamma 0.2314\n",
    "#found a 14 period orbit with wedge angle pi/12 and gamma 0.1849, 0.4592, 0.779802\n",
    "\n",
    "\n",
    "#persistently periodic pentagon with gamma = 0.6180, period (found 6, 8, 10, 14, 18, 20, 30, and 40 depends on initial conditions\n",
    "#found this gamma by looking at wedge angle = 3*pi/5, couldn't find any other gamma so far\n",
    "\n",
    "#found isosceles triangle with main angle 3*pi/5 is periodic with different periods for gamma= 0.6180"
   ]
  },
  {
   "cell_type": "code",
   "execution_count": null,
   "metadata": {},
   "outputs": [],
   "source": []
  }
 ],
 "metadata": {
  "kernelspec": {
   "display_name": "Python 2",
   "language": "python",
   "name": "python2"
  },
  "language_info": {
   "codemirror_mode": {
    "name": "ipython",
    "version": 2
   },
   "file_extension": ".py",
   "mimetype": "text/x-python",
   "name": "python",
   "nbconvert_exporter": "python",
   "pygments_lexer": "ipython2",
   "version": "2.7.15"
  }
 },
 "nbformat": 4,
 "nbformat_minor": 2
}
