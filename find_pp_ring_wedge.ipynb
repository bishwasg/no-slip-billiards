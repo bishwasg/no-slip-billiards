{
 "cells": [
  {
   "cell_type": "code",
   "execution_count": 1,
   "metadata": {},
   "outputs": [
    {
     "name": "stdout",
     "output_type": "stream",
     "text": [
      "N = 3\n"
     ]
    },
    {
     "data": {
      "text/plain": [
       "<Figure size 640x480 with 1 Axes>"
      ]
     },
     "metadata": {},
     "output_type": "display_data"
    },
    {
     "name": "stdout",
     "output_type": "stream",
     "text": [
      "pp wedge(numerical):[array([2.56307799e-12, 8.00000000e+00, 8.00000000e+00, 8.00000000e+00,\n",
      "       8.00000000e+00, 8.00000000e+00, 8.00000000e+00, 8.00000000e+00,\n",
      "       8.00000000e+00, 8.00000000e+00, 8.00000000e+00, 8.00000000e+00,\n",
      "       8.00000000e+00, 8.00000000e+00, 8.00000000e+00, 8.00000000e+00,\n",
      "       8.00000000e+00, 8.00000000e+00, 8.00000000e+00, 8.00000000e+00,\n",
      "       8.00000000e+00, 8.00000000e+00, 8.00000000e+00, 8.00000000e+00,\n",
      "       8.00000000e+00, 8.00000000e+00, 8.00000000e+00, 8.00000000e+00,\n",
      "       8.00000000e+00, 8.00000000e+00, 8.00000000e+00, 8.00000000e+00,\n",
      "       8.00000000e+00, 8.00000000e+00, 8.00000000e+00, 8.00000000e+00,\n",
      "       8.00000000e+00, 8.00000000e+00, 8.00000000e+00, 8.00000000e+00,\n",
      "       8.00000000e+00, 8.00000000e+00, 8.00000000e+00, 8.00000000e+00,\n",
      "       8.00000000e+00]), array([0.785398, 1.570576, 1.570603, 1.570611, 1.570622, 1.570628,\n",
      "       1.570636, 1.570638, 1.570642, 1.570644, 1.570647, 1.570652,\n",
      "       1.570654, 1.570659, 1.570664, 1.570672, 1.570675, 1.570677,\n",
      "       1.570683, 1.570685, 1.570688, 1.57069 , 1.570693, 1.570697,\n",
      "       1.570702, 1.570709, 1.570712, 1.570716, 1.570718, 1.570722,\n",
      "       1.570724, 1.570727, 1.570731, 1.570737, 1.570744, 1.570747,\n",
      "       1.570759, 1.570763, 1.570772, 1.57078 , 1.570782, 1.570784,\n",
      "       1.570788, 1.57079 , 1.570792])]\n",
      "N = 4\n"
     ]
    },
    {
     "data": {
      "text/plain": [
       "<Figure size 640x480 with 1 Axes>"
      ]
     },
     "metadata": {},
     "output_type": "display_data"
    },
    {
     "name": "stdout",
     "output_type": "stream",
     "text": [
      "pp wedge(numerical):[array([3.57302077e-12]), array([0.571859])]\n"
     ]
    }
   ],
   "source": [
    "from pylab import *\n",
    "import math\n",
    "import numpy as np\n",
    "\n",
    "# tolerance\n",
    "epsilon = 0.000001\n",
    "\n",
    "# range of gamma values to sample\n",
    "# you can increase this range beyond 1 \n",
    "\n",
    "delta = 0.000001\n",
    "angle_range = np.arange(0,math.pi/2,delta)\n",
    "\n",
    "#estimate gamma value that gives orbit of period n \n",
    "def pp_wedge(n):\n",
    "    pp_angle = []\n",
    "    min_error = []\n",
    "    error = np.array([None]*len(angle_range))\n",
    "    for i in range(len(angle_range)):\n",
    "        phi =angle_range[i]\n",
    "        identity = np.array([[1,0,0],\n",
    "                           [0,1,0],\n",
    "                           [0,0,1]])\n",
    "        state = identity\n",
    "        #run the simulation for this particular angle\n",
    "        col_count = 0\n",
    "        while col_count < n:\n",
    "            state = next_state(state,phi)\n",
    "            col_count += 1   \n",
    "            \n",
    "        error[i] =  find_error(state)\n",
    "        #print(error[i])\n",
    "    \n",
    "    for i in range(1,len(angle_range)-1,1):\n",
    "        #print(error1)\n",
    "        if error[i-1] > error[i] and error[i+1] > error[i]:\n",
    "            min_error = np.append(min_error, error[i])\n",
    "            pp_angle = np.append(pp_angle, angle_range[i])\n",
    "            \n",
    "    plt.plot(angle_range, error, 'b-')\n",
    "    plt.xlabel('$\\phi$')\n",
    "    plt.ylabel('error')\n",
    "    plt.show()        \n",
    "            \n",
    "    return [min_error, pp_angle]\n",
    "            \n",
    "# error is the residual sum of squares between the transformation in the nth step and identity matrix    \n",
    "def rotation_x(phi):\n",
    "    return np.array([[cos(phi),0,-sin(phi)],\n",
    "                        [0, 1, 0],\n",
    "                        [sin(phi),0, cos(phi)]])\n",
    "def rotation_omega(phi):\n",
    "    return np.array([[1,0,0],\n",
    "                        [0,cos(phi), -sin(phi)],\n",
    "                        [0,sin(phi), cos(phi)]])\n",
    "\n",
    "def reflection(gamma):\n",
    "    return np.array([[-(1-gamma**2)/(1+gamma**2), -2*gamma/(1+gamma**2),0],\n",
    "                                    [-2*gamma/(1+gamma**2),(1-gamma**2)/(1+gamma**2),0],\n",
    "                                   [0,0,-1]])\n",
    "\n",
    "def next_state(current_state, phi):\n",
    "    R_omega = rotation_omega(-phi)\n",
    "    R_x = rotation_x(2*phi)\n",
    "    return np.dot(np.dot(np.dot(R_omega, R_x), R_omega), current_state) \n",
    "            \n",
    "        \n",
    "\n",
    "def find_error(x):\n",
    "    error = 0 \n",
    "    for i in range(3):\n",
    "        for j in range(3):\n",
    "            if i == j: \n",
    "                error += (x[i][j]-1)**2 \n",
    "            else:\n",
    "                error += x[i][j]**2\n",
    "    return error\n",
    "\n",
    "\n",
    "#n is the number of left right consecutive collision pairs\n",
    "n = 5\n",
    "\n",
    "for i in range(3,n,1):\n",
    "    print('N = ' + str(i))\n",
    "    temp1 = pp_wedge(i)\n",
    "    print('pp wedge(numerical):' + str(temp1))    \n",
    "#     temp2 = gamma_periodic_analytical(i)\n",
    "#     print('pp gamma/s (analytical):' + str(temp2))"
   ]
  },
  {
   "cell_type": "code",
   "execution_count": 8,
   "metadata": {},
   "outputs": [],
   "source": [
    "# Output for n = 10\n",
    "# n = 4\n",
    "# pp gamma/s (numerical):[1.]\n",
    "# pp gamma/s (analytical):[1.]\n",
    "# n = 6\n",
    "# pp gamma/s (numerical):[0.57735]\n",
    "# pp gamma/s (analytical):[0.57735027]\n",
    "# n = 8\n",
    "# pp gamma/s (numerical):[0.41421 1.     ]\n",
    "# pp gamma/s (analytical):[0.41421356 1.        ]\n",
    "# n = 10\n",
    "# pp gamma/s (numerical):[0.32492 0.72654]\n",
    "# pp gamma/s (analytical):[0.3249197  0.72654253]\n",
    "# n = 12\n",
    "# pp gamma/s (numerical):[0.26795 0.57735 1.     ]\n",
    "# pp gamma/s (analytical):[0.26794919 0.57735027 1.        ]\n",
    "# n = 14\n",
    "# pp gamma/s (numerical):[0.22824 0.48157 0.79747]\n",
    "# pp gamma/s (analytical):[0.22824347 0.48157462 0.79747339]\n",
    "# n = 16\n",
    "# pp gamma/s (numerical):[0.19891 0.41421 0.66818 1.     ]\n",
    "# pp gamma/s (analytical):[0.19891237 0.41421356 0.66817864 1.        ]\n",
    "# n = 18\n",
    "# pp gamma/s (numerical):[0.17633 0.36397 0.57735 0.8391 ]\n",
    "# pp gamma/s (analytical):[0.17632698 0.36397023 0.57735027 0.83909963]\n",
    "# n = 20\n",
    "# pp gamma/s (numerical):[0.15838 0.32492 0.50953 0.72654 1.     ]\n",
    "# pp gamma/s (analytical):[0.15838444 0.3249197  0.50952545 0.72654253 1.        ]    "
   ]
  },
  {
   "cell_type": "code",
   "execution_count": 50,
   "metadata": {},
   "outputs": [
    {
     "name": "stdout",
     "output_type": "stream",
     "text": [
      "3.14159265359\n",
      "3.28318530718\n"
     ]
    }
   ],
   "source": [
    "a = math.pi\n",
    "print(a)\n",
    "x = 2/3;\n",
    "b = 2*math.pi-3;\n",
    "print(b)"
   ]
  },
  {
   "cell_type": "code",
   "execution_count": 11,
   "metadata": {},
   "outputs": [
    {
     "name": "stdout",
     "output_type": "stream",
     "text": [
      "0.364057383026\n"
     ]
    }
   ],
   "source": [
    "x = 0.57186/(math.pi/2)\n",
    "print(x)"
   ]
  },
  {
   "cell_type": "code",
   "execution_count": 41,
   "metadata": {},
   "outputs": [
    {
     "name": "stdout",
     "output_type": "stream",
     "text": [
      "<matplotlib.colors.ListedColormap object at 0x11d5a5250>\n"
     ]
    },
    {
     "data": {
      "text/plain": [
       "(0.993248, 0.906157, 0.143936, 1.0)"
      ]
     },
     "execution_count": 41,
     "metadata": {},
     "output_type": "execute_result"
    },
    {
     "data": {
      "image/png": "[encoded data removed]",
      "text/plain": [
       "<Figure size 432x288 with 1 Axes>"
      ]
     },
     "metadata": {
      "needs_background": "light"
     },
     "output_type": "display_data"
    }
   ],
   "source": [
    "import numpy as np\n",
    "import matplotlib.pyplot as plt\n",
    "from matplotlib import cm\n",
    "from matplotlib.colors import ListedColormap, LinearSegmentedColormap\n",
    "\n",
    "\n",
    "viridis = cm.get_cmap('viridis', 256)\n",
    "newcolors = viridis(np.linspace(0, 1, 256))\n",
    "newcmp = ListedColormap(newcolors)\n",
    "plt.scatter([1, 2, 3], [1, 2, 3] ,c = newcmp(10))\n",
    "\n",
    "print(newcmp)\n",
    "newcmp(1000)"
   ]
  },
  {
   "cell_type": "code",
   "execution_count": 52,
   "metadata": {},
   "outputs": [
    {
     "name": "stdout",
     "output_type": "stream",
     "text": [
      "[[cos(2*phi) 0 sin(2*phi)]\n",
      " [0 1 0]\n",
      " [-sin(2*phi) 0 cos(2*phi)]]\n",
      "[[cos(2*phi) sin(phi)*sin(2*phi) sin(2*phi)*cos(phi)]\n",
      " [sin(phi)*sin(2*phi) -sin(phi)**2*cos(2*phi) + cos(phi)**2\n",
      "  -sin(phi)*cos(phi)*cos(2*phi) - sin(phi)*cos(phi)]\n",
      " [-sin(2*phi)*cos(phi) sin(phi)*cos(phi)*cos(2*phi) + sin(phi)*cos(phi)\n",
      "  -sin(phi)**2 + cos(phi)**2*cos(2*phi)]]\n"
     ]
    }
   ],
   "source": [
    "import numpy as np\n",
    "from sympy import *\n",
    "\n",
    "\n",
    "def rotation_omega(phi):\n",
    "    return np.array([[1,0,0],\n",
    "                        [0,cos(phi), -sin(phi)],\n",
    "                        [0,sin(phi), cos(phi)]])\n",
    "\n",
    "var('phi')\n",
    "T_ring = np.array([[0,-1,0],\n",
    "                        [-1,0, 0],\n",
    "                        [0,0, -1]])\n",
    "R = np.dot(np.dot(T_ring,rotation_omega(-2*phi)),T_ring)  \n",
    "print(R)\n",
    "R1 = np.dot(np.dot(rotation_omega(phi),R),rotation_omega(phi))\n",
    "print(R1)"
   ]
  },
  {
   "cell_type": "code",
   "execution_count": null,
   "metadata": {},
   "outputs": [],
   "source": []
  }
 ],
 "metadata": {
  "kernelspec": {
   "display_name": "Python 2",
   "language": "python",
   "name": "python2"
  },
  "language_info": {
   "codemirror_mode": {
    "name": "ipython",
    "version": 2
   },
   "file_extension": ".py",
   "mimetype": "text/x-python",
   "name": "python",
   "nbconvert_exporter": "python",
   "pygments_lexer": "ipython2",
   "version": "2.7.15"
  }
 },
 "nbformat": 4,
 "nbformat_minor": 2
}
