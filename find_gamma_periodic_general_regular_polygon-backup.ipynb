{
 "cells": [
  {
   "cell_type": "code",
   "execution_count": 60,
   "metadata": {},
   "outputs": [
    {
     "data": {
      "text/plain": [
       "[array([2.42680456e-06, 1.60253434e-06]), array([0.2679, 0.5774])]"
      ]
     },
     "execution_count": 60,
     "metadata": {},
     "output_type": "execute_result"
    }
   ],
   "source": [
    "from pylab import *\n",
    "import math\n",
    "import numpy as np\n",
    "\n",
    "epsilon= 0.0001 #tolerance\n",
    "n = 12 #periodicity\n",
    "s = 2 #no. of sides in a regular polygon or 2 for the 2D plane strip\n",
    "\n",
    "gamma_range = np.arange(0.01,0.99,0.0001)\n",
    "def gamma_periodic(n,s):\n",
    "     \n",
    "    #min_error = 100\n",
    "    periodic_gamma = []\n",
    "    min_error = []\n",
    "    error = [None]*len(gamma_range)\n",
    "    for i in range(len(gamma_range)):\n",
    "        #find angles to rotate the velocity vector after each collision \n",
    "        if s == 2:\n",
    "            theta_range = np.array([(k+1)*2*math.pi/s for k in range(s-1)])  \n",
    "        else:\n",
    "            theta_range = np.array([(k+1)*math.pi/s for k in range(s-1)])  \n",
    "        \n",
    "        #initialize different states possible at each collision \n",
    "        cases = (s-1)**n\n",
    "        identity = np.array([[1,0,0],\n",
    "                           [0,1,0],\n",
    "                           [0,0,1]])\n",
    "        states = [identity for j in range(cases)]\n",
    "        \n",
    "        #run the simulation for this particular gamma\n",
    "        gamma = gamma_range[i]\n",
    "        col_count = 0\n",
    "        while col_count < n:\n",
    "            states = next_collision(states,theta_range,gamma)\n",
    "            col_count += 1   \n",
    "        #find error for each state for this gamma\n",
    "        error[i] = min([find_error(temp) for temp in states])\n",
    "        \n",
    "    \n",
    "    for index in range(1,len(gamma_range)-1,1):\n",
    "        if error[index-1] > error[index] and error[index+1] > error[index]:\n",
    "            min_error = np.append(min_error, error[index])\n",
    "            periodic_gamma = np.append(periodic_gamma, gamma_range[index])\n",
    "            \n",
    "    return [min_error, periodic_gamma]\n",
    "            \n",
    "        \n",
    "\n",
    "def find_error(x):\n",
    "    error = 0 \n",
    "    for i in range(3):\n",
    "        for j in range(3):\n",
    "            if i == j: \n",
    "                error += (x[i][j]-1)**2 \n",
    "            else:\n",
    "                error += x[i][j]**2\n",
    "    return error\n",
    "\n",
    "def rotation(theta):\n",
    "    return np.array([[1,0,0],\n",
    "                        [0,cos(theta), -sin(theta)],\n",
    "                        [0,sin(theta), cos(theta)]])\n",
    "def reflection(gamma):\n",
    "    return np.array([[-(1-gamma**2)/(1+gamma**2), -2*gamma/(1+gamma**2),0],\n",
    "                                    [-2*gamma/(1+gamma**2),(1-gamma**2)/(1+gamma**2),0],\n",
    "                                   [0,0,-1]])\n",
    "\n",
    "def new_state(current_state, theta, gamma):\n",
    "    T_gamma = reflection(gamma)\n",
    "    R_theta = rotation(theta)\n",
    "    return np.matmul(np.matmul(R_theta, T_gamma), current_state) \n",
    "\n",
    "def next_collision(states, theta_range, gamma):\n",
    "    n_states = len(states)\n",
    "    n_theta = len(theta_range)  \n",
    "    for i in range(n_theta):\n",
    "        if n_states == n_theta:\n",
    "            states[i] = new_state(states[i],theta_range[i],gamma)         \n",
    "        else:  \n",
    "            bin_len = n_states/n_theta\n",
    "            start_index = bin_len*i\n",
    "            end_index = bin_len*(i+1) \n",
    "            for j in range(start_index,end_index):\n",
    "                states[j] = new_state(states[j],theta_range[i],gamma)\n",
    "            states[start_index:end_index] = next_collision(states[start_index:end_index],theta_range,gamma)\n",
    "    return states\n",
    "\n",
    "gamma_periodic(n,s)\n",
    "\n",
    "\n",
    "#gamma for no-slip strip with period 6\n",
    "#0.5773999999999915\n",
    "#[array([[ 9.99999900e-01,  4.47567640e-04, -2.74091551e-20],\n",
    "       #[-4.47567640e-04,  9.99999900e-01, -1.58178685e-20],\n",
    "       #[ 2.74020727e-20,  1.58301344e-20,  1.00000000e+00]])]\n",
    "#4.006336051485242e-07\n",
    "\n"
   ]
  },
  {
   "cell_type": "code",
   "execution_count": 2,
   "metadata": {},
   "outputs": [
    {
     "name": "stdout",
     "output_type": "stream",
     "text": [
      "[1.57079633]\n",
      "1\n",
      "at the top\n",
      "inside the loop\n"
     ]
    },
    {
     "data": {
      "text/plain": [
       "[array([[-7.07106781e-01, -7.07106781e-01,  0.00000000e+00],\n",
       "        [-4.32978028e-17,  4.32978028e-17,  1.00000000e+00],\n",
       "        [-7.07106781e-01,  7.07106781e-01, -6.12323400e-17]])]"
      ]
     },
     "execution_count": 2,
     "metadata": {},
     "output_type": "execute_result"
    }
   ],
   "source": [
    "#sys.setrecursionlimit(1500)\n",
    "from pylab import *\n",
    "import math \n",
    "import numpy as np\n",
    "\n",
    "n=8\n",
    "s=2\n",
    "cases = (s-1)**n\n",
    "theta_range = np.array([(i+1)*math.pi/s for i in range(s-1)])  \n",
    "identity = np.array([[1,0,0],\n",
    "                           [0,1,0],\n",
    "                           [0,0,1]])\n",
    "        \n",
    "        #initialize state for each case\n",
    "states = [identity for i in range(cases)]\n",
    "#print(states)\n",
    "gamma = sin(math.pi/8)/cos(math.pi/8)\n",
    "print(theta_range)\n",
    "print(len(theta_range))\n",
    "\n",
    "def next_collision(states, theta_range, gamma):\n",
    "    print(\"at the top\")\n",
    "    n_states = len(states)\n",
    "    #print(\"n_states\")\n",
    "    #print(n_states)\n",
    "    #n_theta = 2\n",
    "    n_theta = len(theta_range)  \n",
    "    for i in range(n_theta):\n",
    "        print(\"inside the loop\")\n",
    "        #print(bin_len)\n",
    "        if n_states == n_theta:\n",
    "            states[i] = new_state(states[i],theta_range[i],gamma)         \n",
    "        else:  \n",
    "            bin_len = n_states/n_theta\n",
    "            start_index = bin_len*i\n",
    "            print(\"start\")\n",
    "            print(start_index)\n",
    "            end_index = bin_len*(i+1) \n",
    "            \n",
    "            print(\"end\")\n",
    "            print(end_index)\n",
    "            for j in range(start_index,end_index):\n",
    "                print(\"inside second loop\")\n",
    "                print(states[j])\n",
    "                print(theta_range[i])\n",
    "                states[j] = new_state(states[j],theta_range[i],gamma)\n",
    "                print(states[j])\n",
    "            states[start_index:end_index] = next_collision(states[start_index:end_index],theta_range,gamma)\n",
    "    return states\n",
    "def rotation(theta):\n",
    "    return np.array([[1,0,0],\n",
    "                        [0,cos(theta), -sin(theta)],\n",
    "                        [0,sin(theta), cos(theta)]])\n",
    "def reflection(gamma):\n",
    "    return np.array([[-(1-gamma**2)/(1+gamma**2), -2*gamma/(1+gamma**2),0],\n",
    "                                    [-2*gamma/(1+gamma**2),(1-gamma**2)/(1+gamma**2),0],\n",
    "                                   [0,0,-1]])\n",
    "\n",
    "def new_state(current_state, theta, gamma):\n",
    "    T_gamma = reflection(gamma)\n",
    "    R_theta = rotation(theta)\n",
    "    return np.matmul(np.matmul(R_theta, T_gamma), current_state) \n",
    "\n",
    "        \n",
    "next_collision(states, theta_range, gamma)"
   ]
  },
  {
   "cell_type": "code",
   "execution_count": 51,
   "metadata": {
    "scrolled": false
   },
   "outputs": [
    {
     "name": "stdout",
     "output_type": "stream",
     "text": [
      "[1.04719755 2.0943951 ]\n"
     ]
    }
   ],
   "source": [
    "from pylab import *\n",
    "import math \n",
    "import numpy as np\n",
    "n=6\n",
    "s=3\n",
    "cases = (s-1)**n\n",
    "if s == 2:\n",
    "    theta_range = np.array([(i+1)*2*math.pi/s for i in range(s-1)])  \n",
    "else:\n",
    "    theta_range = np.array([(i+1)*math.pi/s for i in range(s-1)])\n",
    "    \n",
    "identity = np.array([[1,0,0],\n",
    "                           [0,1,0],\n",
    "                           [0,0,1]])\n",
    "        \n",
    "#initialize state for each case\n",
    "states = [identity for i in range(cases)]\n",
    "#print(states)\n",
    "gamma = sin(math.pi/13)/cos(math.pi/13)\n",
    "states = [identity for i in range(cases)]\n",
    "col_count = 0\n",
    "while col_count < n:\n",
    "    states = next_collision(states,theta_range,gamma)\n",
    "    col_count += 1\n"
   ]
  },
  {
   "cell_type": "code",
   "execution_count": 39,
   "metadata": {},
   "outputs": [
    {
     "name": "stdout",
     "output_type": "stream",
     "text": [
      "[0.5   0.501 0.502 0.503 0.504 0.505 0.506 0.507 0.508 0.509 0.51  0.511\n",
      " 0.512 0.513 0.514 0.515 0.516 0.517 0.518 0.519 0.52  0.521 0.522 0.523\n",
      " 0.524 0.525 0.526 0.527 0.528 0.529 0.53  0.531 0.532 0.533 0.534 0.535\n",
      " 0.536 0.537 0.538 0.539 0.54  0.541 0.542 0.543 0.544 0.545 0.546 0.547\n",
      " 0.548 0.549 0.55  0.551 0.552 0.553 0.554 0.555 0.556 0.557 0.558 0.559\n",
      " 0.56  0.561 0.562 0.563 0.564 0.565 0.566 0.567 0.568 0.569 0.57  0.571\n",
      " 0.572 0.573 0.574 0.575 0.576 0.577 0.578 0.579 0.58  0.581 0.582 0.583\n",
      " 0.584 0.585 0.586 0.587 0.588 0.589 0.59  0.591 0.592 0.593 0.594 0.595\n",
      " 0.596 0.597 0.598 0.599]\n"
     ]
    }
   ],
   "source": [
    "print(gamma_range)"
   ]
  },
  {
   "cell_type": "code",
   "execution_count": 40,
   "metadata": {},
   "outputs": [
    {
     "data": {
      "text/plain": [
       "100"
      ]
     },
     "execution_count": 40,
     "metadata": {},
     "output_type": "execute_result"
    }
   ],
   "source": [
    "len(gamma_range)"
   ]
  },
  {
   "cell_type": "code",
   "execution_count": 43,
   "metadata": {},
   "outputs": [
    {
     "data": {
      "text/plain": [
       "0.502"
      ]
     },
     "execution_count": 43,
     "metadata": {},
     "output_type": "execute_result"
    }
   ],
   "source": [
    "gamma_range[2]"
   ]
  },
  {
   "cell_type": "code",
   "execution_count": null,
   "metadata": {},
   "outputs": [],
   "source": []
  }
 ],
 "metadata": {
  "kernelspec": {
   "display_name": "Python 2",
   "language": "python",
   "name": "python2"
  },
  "language_info": {
   "codemirror_mode": {
    "name": "ipython",
    "version": 2
   },
   "file_extension": ".py",
   "mimetype": "text/x-python",
   "name": "python",
   "nbconvert_exporter": "python",
   "pygments_lexer": "ipython2",
   "version": "2.7.15"
  }
 },
 "nbformat": 4,
 "nbformat_minor": 2
}
